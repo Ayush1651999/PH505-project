{
 "cells": [
  {
   "cell_type": "code",
   "execution_count": 15,
   "metadata": {},
   "outputs": [],
   "source": [
    "import math\n",
    "import matplotlib.pyplot as plt\n",
    "import numpy as np\n",
    "import sympy as sp\n",
    "import scipy\n",
    "# import mpmath"
   ]
  },
  {
   "cell_type": "code",
   "execution_count": 2,
   "metadata": {},
   "outputs": [],
   "source": [
    "# define the parametrs used\n",
    "\n",
    "A1 = 60\n",
    "A2 = 4\n",
    "A3 = 64\n",
    "reduced_mass = A1*A2/(A1+A2)\n",
    "\n",
    "Z1 = 28\n",
    "Z2 = 2\n",
    "Z3 = 30\n",
    "\n",
    "pi = np.pi\n",
    "e = np.sqrt(1.44) # sqrt(MeV-fm)\n",
    "b_surf = 17 # MeV\n",
    "h = 197.32 # Mev-fm\n",
    "hcut = 1 # h/(2*pi)"
   ]
  },
  {
   "cell_type": "code",
   "execution_count": 3,
   "metadata": {},
   "outputs": [],
   "source": [
    "# Defining function to solve with the Newton raphson method\n",
    "\n",
    "# source for this code : \n",
    "# https://stackoverflow.com/questions/42449242/newton-raphsons-method-user-input-and-numerical-output-problems\n",
    "\n",
    "def f(symx):\n",
    "    tmp = sp.sympify(symx)\n",
    "    return tmp\n",
    "\n",
    "def fprime(symx):\n",
    "    tmp = sp.diff(f(symx), r)\n",
    "    return tmp;\n",
    "\n",
    "def newtons_method(symx):   \n",
    "    guess = sp.sympify(0.5) # Convert to an int immediately.\n",
    "    div = f(symx)/fprime(symx)\n",
    "\n",
    "    for i in range(1, 100):\n",
    "        nextGuess = guess - div.subs(r, guess)\n",
    "        guess = nextGuess\n",
    "    return guess.evalf()"
   ]
  },
  {
   "cell_type": "code",
   "execution_count": 4,
   "metadata": {},
   "outputs": [],
   "source": [
    "r = sp.Symbol('r')\n",
    "\n",
    "V_coulomb = Z1*Z2*(e**2)/r   # MeV\n",
    "\n",
    "R1 = (1.128)*(A1**(1/3))*(1 - 0.786*(A1**(-2/3))) # fm\n",
    "R2 = (1.128)*(A2**(1/3))*(1 - 0.786*(A2**(-2/3))) # fm\n",
    "V_0 = b_surf*(A1**(2/3) + A2**(2/3) - (A1+A2)**(2/3))\n",
    "a = (0.356)*((R1+R2)*(A1**(2/3) + A2**(2/3) - (A1+A2)**(2/3)))/(R1*R2)\n",
    "\n",
    "V_nuclear = -V_0/(1+sp.exp((r-R1-R2)/a))\n",
    "\n",
    "V_net = V_coulomb + V_nuclear\n",
    "\n",
    "dV_dr = sp.diff(V_net)\n",
    "\n",
    "R_l = newtons_method(dV_dr)"
   ]
  },
  {
   "cell_type": "code",
   "execution_count": 6,
   "metadata": {},
   "outputs": [],
   "source": [
    "d2V_dr2 = sp.diff(dV_dr)\n",
    "omega = ((d2V_dr2.subs(r, R_l))/(reduced_mass))**(0.5)"
   ]
  },
  {
   "cell_type": "code",
   "execution_count": 8,
   "metadata": {},
   "outputs": [],
   "source": [
    "r_B = 1.4\n",
    "r_C = 1\n",
    "\n",
    "R_B = r_B*((A1**(1/3)) + (A2**(1/3)))\n",
    "R_C = r_C*((A1**(1/3)) + (A2**(1/3)))\n",
    "\n",
    "V_B = V_net.subs(r, R_B)\n",
    "V_C = V_net.subs(r, R_C)"
   ]
  },
  {
   "cell_type": "code",
   "execution_count": 9,
   "metadata": {},
   "outputs": [
    {
     "data": {
      "text/latex": [
       "$\\displaystyle \\frac{42.6546545360949 \\log{\\left(\\frac{1.730863381294 \\cdot 10^{-18} e^{4.37041928831313 E} + 1}{1.3269244904292 \\cdot 10^{-18} e^{2.1406135289697 E} + 1} \\right)}}{E}$"
      ],
      "text/plain": [
       "42.6546545360949*log((1.730863381294e-18*exp(4.37041928831313*E) + 1)/(1.3269244904292e-18*exp(2.1406135289697*E) + 1))/E"
      ]
     },
     "execution_count": 9,
     "metadata": {},
     "output_type": "execute_result"
    }
   ],
   "source": [
    "E = sp.Symbol('E')\n",
    "\n",
    "hcut_omega = hcut*omega\n",
    "\n",
    "num = 1 + sp.exp(2*pi*(E-V_B)/hcut_omega)\n",
    "den = 1 + sp.exp(2*pi*(E - V_B - ((R_C/R_B)**2)*(E - V_C))/hcut_omega)\n",
    "sigma_fusion = (0.5)*(hcut_omega)*(R_B**2)*(1/E)*(sp.log(num/den))\n",
    "\n",
    "sigma_fusion"
   ]
  },
  {
   "cell_type": "code",
   "execution_count": 10,
   "metadata": {},
   "outputs": [
    {
     "data": {
      "text/plain": [
       "array([10.        , 10.57142857, 11.14285714, 11.71428571, 12.28571429,\n",
       "       12.85714286, 13.42857143, 14.        , 14.57142857, 15.14285714,\n",
       "       15.71428571, 16.28571429, 16.85714286, 17.42857143, 18.        ,\n",
       "       18.57142857, 19.14285714, 19.71428571, 20.28571429, 20.85714286,\n",
       "       21.42857143, 22.        , 22.57142857, 23.14285714, 23.71428571,\n",
       "       24.28571429, 24.85714286, 25.42857143, 26.        , 26.57142857,\n",
       "       27.14285714, 27.71428571, 28.28571429, 28.85714286, 29.42857143,\n",
       "       30.        , 30.57142857, 31.14285714, 31.71428571, 32.28571429,\n",
       "       32.85714286, 33.42857143, 34.        , 34.57142857, 35.14285714,\n",
       "       35.71428571, 36.28571429, 36.85714286, 37.42857143, 38.        ])"
      ]
     },
     "execution_count": 10,
     "metadata": {},
     "output_type": "execute_result"
    }
   ],
   "source": [
    "E_values = np.linspace(10,38)\n",
    "E_values"
   ]
  },
  {
   "cell_type": "code",
   "execution_count": 11,
   "metadata": {},
   "outputs": [
    {
     "data": {
      "text/plain": [
       "array([12.22036812, 21.41976975, 29.86383038, 37.49928681, 44.42566412,\n",
       "       50.7364556 , 56.51015946, 61.81252028, 66.69894165, 71.21635393,\n",
       "       75.40449856, 79.29635203, 82.91654586, 86.27401286, 89.33830858,\n",
       "       91.98285828, 93.94216877, 95.03005002, 95.46173216, 95.59324483,\n",
       "       95.62269174, 95.62170735, 95.61233306, 95.60098641, 95.58948608,\n",
       "       95.57832556, 95.56762026, 95.55737943, 95.54758396, 95.53820841,\n",
       "       95.52922723, 95.52061629, 95.51235324, 95.50441742, 95.49678979,\n",
       "       95.48945273, 95.48238996, 95.47558637, 95.46902796, 95.4627017 ,\n",
       "       95.45659548, 95.45069803, 95.44499881, 95.43948799, 95.43415638,\n",
       "       95.42899539, 95.42399695, 95.4191535 , 95.41445794, 95.4099036 ])"
      ]
     },
     "execution_count": 11,
     "metadata": {},
     "output_type": "execute_result"
    }
   ],
   "source": [
    "sigma_fusion_values = np.zeros(50)\n",
    "\n",
    "for i in range(50):\n",
    "    sigma_fusion_values[i] = sigma_fusion.subs(E, E_values[i])\n",
    "    \n",
    "sigma_fusion_values"
   ]
  },
  {
   "cell_type": "code",
   "execution_count": 12,
   "metadata": {
    "scrolled": true
   },
   "outputs": [
    {
     "data": {
      "text/plain": [
       "<function matplotlib.pyplot.show(*args, **kw)>"
      ]
     },
     "execution_count": 12,
     "metadata": {},
     "output_type": "execute_result"
    },
    {
     "data": {
      "image/png": "[encoded data removed]",
      "text/plain": [
       "<Figure size 432x288 with 1 Axes>"
      ]
     },
     "metadata": {
      "needs_background": "light"
     },
     "output_type": "display_data"
    }
   ],
   "source": [
    "plt.plot(E_values, sigma_fusion_values)\n",
    "plt.xlabel('Energy in MeV')\n",
    "plt.ylabel('Crosss section in $fm^2$')\n",
    "plt.show"
   ]
  },
  {
   "cell_type": "markdown",
   "metadata": {},
   "source": [
    "Now, we calculate the cross section values for the residual reactions\n",
    "\n",
    "The author of \"An Experimental Verification of the Theory of Compound Nucleus*\" has considered a total of three exit channels. "
   ]
  },
  {
   "cell_type": "code",
   "execution_count": 13,
   "metadata": {},
   "outputs": [],
   "source": [
    "reduced_masses = np.array([0.984375, 0.96875, 0.96875])\n",
    "\n",
    "spin_multiplicity = np.array([2, 4, 4])\n",
    "\n",
    "Q_values = np.array([-7.906, -17.022, -14.621])    # in MeV\n",
    "\n",
    "Separation_energy = np.array([11.861, 20.978, 18.576])    # in MeV\n",
    "\n",
    "T = 1.255 # MeV, nuclear temperature for the compound nucleus Zn-64\n",
    "\n",
    "E_excitation = np.zeros([50,3]) # number of incident energy values vs no of exit channels\n",
    "\n",
    "for i in range(50):\n",
    "    for j in range(3):\n",
    "        E_excitation[i][j] = Q_values[j] + (E_values[i])*(15/16)\n",
    "        \n",
    "a_values = (E_excitation+T)/(T**2)\n",
    "\n",
    "threshold = np.array([0, 0, -9])  # \n",
    "\n",
    "R_values = E_excitation - Separation_energy - threshold\n",
    "\n",
    "tau_values = np.zeros_like(E_excitation)\n",
    "\n",
    "for i in range(tau_values.shape[0]):\n",
    "    for j in range(tau_values.shape[1]):\n",
    "        ax_Rx = (R_values[i][j])*(a_values[i][j])\n",
    "        ax_Rx = np.abs(ax_Rx)\n",
    "        tau_values[i][j] = (spin_multiplicity[j])*\\\n",
    "        (reduced_masses[j])*(ax_Rx)*(np.exp(2*((ax_Rx)**0.5)))\n",
    "        \n",
    "        \n",
    "for i in range(tau_values.shape[0]):\n",
    "    tau = tau_values[i][0]+tau_values[i][1]+tau_values[i][2]\n",
    "    for j in range(tau_values.shape[1]):\n",
    "        tau_values[i][j] = tau_values[i][j]/(tau)\n",
    "\n",
    "residual_cross_sections = np.zeros_like(tau_values)\n",
    "\n",
    "for i in range(residual_cross_sections.shape[0]):\n",
    "    for j in range(residual_cross_sections.shape[1]):\n",
    "        residual_cross_sections[i][j] = sigma_fusion_values[i]\\\n",
    "        *tau_values[i][j]"
   ]
  },
  {
   "cell_type": "code",
   "execution_count": 14,
   "metadata": {},
   "outputs": [
    {
     "data": {
      "image/png": "[encoded data removed]",
      "text/plain": [
       "<Figure size 432x288 with 1 Axes>"
      ]
     },
     "metadata": {
      "needs_background": "light"
     },
     "output_type": "display_data"
    }
   ],
   "source": [
    "plt.plot(E_values, sigma_fusion_values, label='fusion_cross_section')\n",
    "plt.plot(E_values, residual_cross_sections[:,0], label='first_cross_section')\n",
    "plt.plot(E_values, residual_cross_sections[:,1], label='second_cross_section')\n",
    "plt.plot(E_values, residual_cross_sections[:,2], label='third_cross_section')\n",
    "\n",
    "plt.xlabel('Energy in MeV')\n",
    "plt.ylabel('Crosss section in $fm^2$')\n",
    "\n",
    "plt.legend(loc='center right', bbox_to_anchor=(0.70, -0.35))\n",
    "plt.show()"
   ]
  },
  {
   "cell_type": "code",
   "execution_count": null,
   "metadata": {},
   "outputs": [],
   "source": []
  }
 ],
 "metadata": {
  "kernelspec": {
   "display_name": "Python 3",
   "language": "python",
   "name": "python3"
  },
  "language_info": {
   "codemirror_mode": {
    "name": "ipython",
    "version": 3
   },
   "file_extension": ".py",
   "mimetype": "text/x-python",
   "name": "python",
   "nbconvert_exporter": "python",
   "pygments_lexer": "ipython3",
   "version": "3.6.9"
  }
 },
 "nbformat": 4,
 "nbformat_minor": 4
}
